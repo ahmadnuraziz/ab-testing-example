{
 "cells": [
  {
   "cell_type": "code",
   "execution_count": 63,
   "id": "2a6624db",
   "metadata": {},
   "outputs": [],
   "source": [
    "import numpy as np\n",
    "import pandas as pd\n",
    "from scipy.stats import norm\n",
    "import matplotlib.pyplot as plt\n",
    "import seaborn as sns"
   ]
  },
  {
   "cell_type": "code",
   "execution_count": 75,
   "id": "7ba42d27",
   "metadata": {},
   "outputs": [],
   "source": [
    "cvr = 0.03 #conversion metric\n",
    "mde = np.arange(0.1,1,0.1) #MDE for relative difference 0.1 - 0.9\n",
    "alpha = 0.05 #alpha or significance level\n",
    "power = 0.8 #statistical power\n",
    "n_variant = 2\n",
    "daily_traffic = 1000"
   ]
  },
  {
   "cell_type": "code",
   "execution_count": 77,
   "id": "a10e82bc",
   "metadata": {},
   "outputs": [],
   "source": [
    "stde = cvr*(1-cvr)\n",
    "sample_per_variant = []\n",
    "\n",
    "for mde_i in mde:\n",
    "    delta = cvr*mde_i\n",
    "    sample_per_variant.append((2*(norm.ppf(1 - alpha/2) + norm.ppf(power))**2)/(delta**2/stde))\n",
    "    \n",
    "duration_days = [i/daily_traffic for i in sample_per_variant]"
   ]
  },
  {
   "cell_type": "code",
   "execution_count": 86,
   "id": "d11ca692",
   "metadata": {},
   "outputs": [
    {
     "data": {
      "image/png": "[encoded data removed]",
      "text/plain": [
       "<Figure size 432x288 with 1 Axes>"
      ]
     },
     "metadata": {
      "needs_background": "light"
     },
     "output_type": "display_data"
    }
   ],
   "source": [
    "sns.lineplot(x=mde*100,y=sample_per_variant)\n",
    "plt.title('mde to sample_per_variant')\n",
    "plt.xlabel('mde(%)')\n",
    "plt.ylabel('sample_per_variant')\n",
    "plt.show()"
   ]
  },
  {
   "cell_type": "code",
   "execution_count": 83,
   "id": "3c103b9c",
   "metadata": {},
   "outputs": [
    {
     "data": {
      "text/html": [
       "<div>\n",
       "<style scoped>\n",
       "    .dataframe tbody tr th:only-of-type {\n",
       "        vertical-align: middle;\n",
       "    }\n",
       "\n",
       "    .dataframe tbody tr th {\n",
       "        vertical-align: top;\n",
       "    }\n",
       "\n",
       "    .dataframe thead th {\n",
       "        text-align: right;\n",
       "    }\n",
       "</style>\n",
       "<table border=\"1\" class=\"dataframe\">\n",
       "  <thead>\n",
       "    <tr style=\"text-align: right;\">\n",
       "      <th></th>\n",
       "      <th>mde(%)</th>\n",
       "      <th>sample_per_variant</th>\n",
       "      <th>duration_days</th>\n",
       "    </tr>\n",
       "  </thead>\n",
       "  <tbody>\n",
       "    <tr>\n",
       "      <th>0</th>\n",
       "      <td>10.0</td>\n",
       "      <td>50757.0</td>\n",
       "      <td>51.0</td>\n",
       "    </tr>\n",
       "    <tr>\n",
       "      <th>1</th>\n",
       "      <td>20.0</td>\n",
       "      <td>12690.0</td>\n",
       "      <td>13.0</td>\n",
       "    </tr>\n",
       "    <tr>\n",
       "      <th>2</th>\n",
       "      <td>30.0</td>\n",
       "      <td>5640.0</td>\n",
       "      <td>6.0</td>\n",
       "    </tr>\n",
       "    <tr>\n",
       "      <th>3</th>\n",
       "      <td>40.0</td>\n",
       "      <td>3173.0</td>\n",
       "      <td>4.0</td>\n",
       "    </tr>\n",
       "    <tr>\n",
       "      <th>4</th>\n",
       "      <td>50.0</td>\n",
       "      <td>2031.0</td>\n",
       "      <td>3.0</td>\n",
       "    </tr>\n",
       "    <tr>\n",
       "      <th>5</th>\n",
       "      <td>60.0</td>\n",
       "      <td>1410.0</td>\n",
       "      <td>2.0</td>\n",
       "    </tr>\n",
       "    <tr>\n",
       "      <th>6</th>\n",
       "      <td>70.0</td>\n",
       "      <td>1036.0</td>\n",
       "      <td>2.0</td>\n",
       "    </tr>\n",
       "    <tr>\n",
       "      <th>7</th>\n",
       "      <td>80.0</td>\n",
       "      <td>794.0</td>\n",
       "      <td>1.0</td>\n",
       "    </tr>\n",
       "    <tr>\n",
       "      <th>8</th>\n",
       "      <td>90.0</td>\n",
       "      <td>627.0</td>\n",
       "      <td>1.0</td>\n",
       "    </tr>\n",
       "  </tbody>\n",
       "</table>\n",
       "</div>"
      ],
      "text/plain": [
       "   mde(%)  sample_per_variant  duration_days\n",
       "0    10.0             50757.0           51.0\n",
       "1    20.0             12690.0           13.0\n",
       "2    30.0              5640.0            6.0\n",
       "3    40.0              3173.0            4.0\n",
       "4    50.0              2031.0            3.0\n",
       "5    60.0              1410.0            2.0\n",
       "6    70.0              1036.0            2.0\n",
       "7    80.0               794.0            1.0\n",
       "8    90.0               627.0            1.0"
      ]
     },
     "execution_count": 83,
     "metadata": {},
     "output_type": "execute_result"
    }
   ],
   "source": [
    "result = pd.DataFrame({'mde(%)':mde*100,\n",
    "              'sample_per_variant':np.ceil(sample_per_variant),\n",
    "              'duration_days':np.ceil(duration_days)})\n",
    "\n",
    "result"
   ]
  }
 ],
 "metadata": {
  "kernelspec": {
   "display_name": "Python 3 (ipykernel)",
   "language": "python",
   "name": "python3"
  },
  "language_info": {
   "codemirror_mode": {
    "name": "ipython",
    "version": 3
   },
   "file_extension": ".py",
   "mimetype": "text/x-python",
   "name": "python",
   "nbconvert_exporter": "python",
   "pygments_lexer": "ipython3",
   "version": "3.9.7"
  }
 },
 "nbformat": 4,
 "nbformat_minor": 5
}
