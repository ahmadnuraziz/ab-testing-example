{
 "cells": [
  {
   "cell_type": "code",
   "execution_count": 1,
   "id": "7204da80",
   "metadata": {},
   "outputs": [],
   "source": [
    "import pandas as pd\n",
    "import numpy as np\n",
    "import scipy.stats as stats"
   ]
  },
  {
   "cell_type": "code",
   "execution_count": 2,
   "id": "c59baa2e",
   "metadata": {},
   "outputs": [],
   "source": [
    "df = pd.read_csv('ab_test_results_aggregated_views_clicks.csv')"
   ]
  },
  {
   "cell_type": "code",
   "execution_count": 3,
   "id": "b998c3fa",
   "metadata": {},
   "outputs": [
    {
     "name": "stdout",
     "output_type": "stream",
     "text": [
      "<class 'pandas.core.frame.DataFrame'>\n",
      "RangeIndex: 80000 entries, 0 to 79999\n",
      "Data columns (total 4 columns):\n",
      " #   Column   Non-Null Count  Dtype  \n",
      "---  ------   --------------  -----  \n",
      " 0   user_id  80000 non-null  int64  \n",
      " 1   group    80000 non-null  object \n",
      " 2   views    80000 non-null  float64\n",
      " 3   clicks   80000 non-null  float64\n",
      "dtypes: float64(2), int64(1), object(1)\n",
      "memory usage: 2.4+ MB\n"
     ]
    }
   ],
   "source": [
    "df.info()"
   ]
  },
  {
   "cell_type": "code",
   "execution_count": 4,
   "id": "d9483d7d",
   "metadata": {},
   "outputs": [
    {
     "data": {
      "text/html": [
       "<div>\n",
       "<style scoped>\n",
       "    .dataframe tbody tr th:only-of-type {\n",
       "        vertical-align: middle;\n",
       "    }\n",
       "\n",
       "    .dataframe tbody tr th {\n",
       "        vertical-align: top;\n",
       "    }\n",
       "\n",
       "    .dataframe thead th {\n",
       "        text-align: right;\n",
       "    }\n",
       "</style>\n",
       "<table border=\"1\" class=\"dataframe\">\n",
       "  <thead>\n",
       "    <tr style=\"text-align: right;\">\n",
       "      <th></th>\n",
       "      <th>user_id</th>\n",
       "      <th>group</th>\n",
       "      <th>views</th>\n",
       "      <th>clicks</th>\n",
       "    </tr>\n",
       "  </thead>\n",
       "  <tbody>\n",
       "    <tr>\n",
       "      <th>0</th>\n",
       "      <td>1</td>\n",
       "      <td>control</td>\n",
       "      <td>3.0</td>\n",
       "      <td>0.0</td>\n",
       "    </tr>\n",
       "    <tr>\n",
       "      <th>1</th>\n",
       "      <td>2</td>\n",
       "      <td>control</td>\n",
       "      <td>1.0</td>\n",
       "      <td>0.0</td>\n",
       "    </tr>\n",
       "    <tr>\n",
       "      <th>2</th>\n",
       "      <td>3</td>\n",
       "      <td>control</td>\n",
       "      <td>3.0</td>\n",
       "      <td>1.0</td>\n",
       "    </tr>\n",
       "    <tr>\n",
       "      <th>3</th>\n",
       "      <td>4</td>\n",
       "      <td>control</td>\n",
       "      <td>5.0</td>\n",
       "      <td>0.0</td>\n",
       "    </tr>\n",
       "    <tr>\n",
       "      <th>4</th>\n",
       "      <td>5</td>\n",
       "      <td>control</td>\n",
       "      <td>2.0</td>\n",
       "      <td>0.0</td>\n",
       "    </tr>\n",
       "  </tbody>\n",
       "</table>\n",
       "</div>"
      ],
      "text/plain": [
       "   user_id    group  views  clicks\n",
       "0        1  control    3.0     0.0\n",
       "1        2  control    1.0     0.0\n",
       "2        3  control    3.0     1.0\n",
       "3        4  control    5.0     0.0\n",
       "4        5  control    2.0     0.0"
      ]
     },
     "execution_count": 4,
     "metadata": {},
     "output_type": "execute_result"
    }
   ],
   "source": [
    "df.head()"
   ]
  },
  {
   "cell_type": "code",
   "execution_count": 5,
   "id": "acb56997",
   "metadata": {},
   "outputs": [
    {
     "data": {
      "text/plain": [
       "array(['control', 'test'], dtype=object)"
      ]
     },
     "execution_count": 5,
     "metadata": {},
     "output_type": "execute_result"
    }
   ],
   "source": [
    "df.group.unique()"
   ]
  },
  {
   "cell_type": "markdown",
   "id": "f0d79a7c",
   "metadata": {},
   "source": [
    "## Sample Ratio Mismatch Checking (SRM)"
   ]
  },
  {
   "cell_type": "code",
   "execution_count": 22,
   "id": "b51dbc06",
   "metadata": {},
   "outputs": [
    {
     "data": {
      "text/plain": [
       "group\n",
       "control    40000\n",
       "test       40000\n",
       "Name: user_id, dtype: int64"
      ]
     },
     "execution_count": 22,
     "metadata": {},
     "output_type": "execute_result"
    }
   ],
   "source": [
    "df.groupby('group')['user_id'].nunique()"
   ]
  },
  {
   "cell_type": "code",
   "execution_count": 98,
   "id": "ad35532e",
   "metadata": {},
   "outputs": [],
   "source": [
    "def sample_ratio_mismatch(control_sample_size, treatment_sample_size, \n",
    "                          control_expected_proportion, treatment_expected_proportion):\n",
    "    \n",
    "    total_sample_size = control_sample_size + treatment_sample_size\n",
    "    \n",
    "    # Compute the expected frequencies under the assumption of equal proportions\n",
    "    expected_control_successes = control_expected_proportion * total_sample_size\n",
    "    expected_treatment_successes = treatment_expected_proportion * total_sample_size\n",
    "    \n",
    "    # Create the observed and expected frequency arrays\n",
    "    observed_frequencies = [control_sample_size, treatment_sample_size]\n",
    "    expected_frequencies = [expected_control_successes, expected_treatment_successes]\n",
    "    \n",
    "    # Perform chi-square test to check for sample ratio mismatch\n",
    "    _, p_value = stats.chisquare(observed_frequencies, expected_frequencies)\n",
    "    \n",
    "    # Check if the p-value is less than the significance level (e.g., 0.05)\n",
    "    if p_value < 0.05:\n",
    "        return True  # Sample ratio mismatch detected\n",
    "    else:\n",
    "        return False  # Sample ratio mismatch not detected"
   ]
  },
  {
   "cell_type": "code",
   "execution_count": 99,
   "id": "b93d024d",
   "metadata": {},
   "outputs": [
    {
     "name": "stdout",
     "output_type": "stream",
     "text": [
      "Sample ratio mismatch not detected.\n"
     ]
    }
   ],
   "source": [
    "#Usage\n",
    "control_expected_proportion = 0.5 \n",
    "treatment_expected_proportion = 1-control_expected_proportion\n",
    "control_sample_size = df.groupby('group')['user_id'].nunique()['control']\n",
    "treatment_sample_size = df.groupby('group')['user_id'].nunique()['test']\n",
    "\n",
    "if sample_ratio_mismatch(control_sample_size, treatment_sample_size, control_expected_proportion, treatment_expected_proportion):\n",
    "    print(\"Sample ratio mismatch detected!\")\n",
    "else:\n",
    "    print(\"Sample ratio mismatch not detected.\")\n"
   ]
  },
  {
   "cell_type": "markdown",
   "id": "eb0803e1",
   "metadata": {},
   "source": [
    "## Descriptive Analysis"
   ]
  },
  {
   "cell_type": "code",
   "execution_count": 103,
   "id": "1d2f3bde",
   "metadata": {},
   "outputs": [
    {
     "data": {
      "text/html": [
       "<div>\n",
       "<style scoped>\n",
       "    .dataframe tbody tr th:only-of-type {\n",
       "        vertical-align: middle;\n",
       "    }\n",
       "\n",
       "    .dataframe tbody tr th {\n",
       "        vertical-align: top;\n",
       "    }\n",
       "\n",
       "    .dataframe thead th {\n",
       "        text-align: right;\n",
       "    }\n",
       "</style>\n",
       "<table border=\"1\" class=\"dataframe\">\n",
       "  <thead>\n",
       "    <tr style=\"text-align: right;\">\n",
       "      <th></th>\n",
       "      <th>Total Users</th>\n",
       "      <th>Average Clicks</th>\n",
       "      <th>Average Views</th>\n",
       "      <th>Clicks to Views Ratio</th>\n",
       "      <th>Median Clicks</th>\n",
       "      <th>Median Views</th>\n",
       "      <th>Quartile 3 Clicks</th>\n",
       "      <th>Quartile 3 Views</th>\n",
       "    </tr>\n",
       "    <tr>\n",
       "      <th>group</th>\n",
       "      <th></th>\n",
       "      <th></th>\n",
       "      <th></th>\n",
       "      <th></th>\n",
       "      <th></th>\n",
       "      <th></th>\n",
       "      <th></th>\n",
       "      <th></th>\n",
       "    </tr>\n",
       "  </thead>\n",
       "  <tbody>\n",
       "    <tr>\n",
       "      <th>control</th>\n",
       "      <td>40000</td>\n",
       "      <td>0.345725</td>\n",
       "      <td>4.981050</td>\n",
       "      <td>0.069408</td>\n",
       "      <td>0.0</td>\n",
       "      <td>3.0</td>\n",
       "      <td>1.0</td>\n",
       "      <td>6.0</td>\n",
       "    </tr>\n",
       "    <tr>\n",
       "      <th>test</th>\n",
       "      <td>40000</td>\n",
       "      <td>0.401150</td>\n",
       "      <td>5.015475</td>\n",
       "      <td>0.079982</td>\n",
       "      <td>0.0</td>\n",
       "      <td>3.0</td>\n",
       "      <td>1.0</td>\n",
       "      <td>6.0</td>\n",
       "    </tr>\n",
       "  </tbody>\n",
       "</table>\n",
       "</div>"
      ],
      "text/plain": [
       "         Total Users  Average Clicks  Average Views  Clicks to Views Ratio  \\\n",
       "group                                                                        \n",
       "control        40000        0.345725       4.981050               0.069408   \n",
       "test           40000        0.401150       5.015475               0.079982   \n",
       "\n",
       "         Median Clicks  Median Views  Quartile 3 Clicks  Quartile 3 Views  \n",
       "group                                                                      \n",
       "control            0.0           3.0                1.0               6.0  \n",
       "test               0.0           3.0                1.0               6.0  "
      ]
     },
     "execution_count": 103,
     "metadata": {},
     "output_type": "execute_result"
    }
   ],
   "source": [
    "# 1. Total users per variant_name\n",
    "total_users = df.groupby('group')['user_id'].nunique()\n",
    "\n",
    "# 2. Average clicks and views per variant_name\n",
    "average_clicks = df.groupby('group')['clicks'].mean()\n",
    "average_views = df.groupby('group')['views'].mean()\n",
    "\n",
    "# 3. Total clicks / total views per variant_name\n",
    "clicks_to_views_ratio = df.groupby('group').apply(lambda x: x['clicks'].sum() / x['views'].sum())\n",
    "\n",
    "# 4. Median clicks and views per variant_name\n",
    "median_clicks = df.groupby('group')['clicks'].median()\n",
    "median_views = df.groupby('group')['views'].median()\n",
    "\n",
    "# 4. Median clicks and views per variant_name\n",
    "q3_clicks = df.groupby('group')['clicks'].quantile(0.75)\n",
    "q3_views = df.groupby('group')['views'].quantile(0.75)\n",
    "\n",
    "# Creating a new DataFrame to store the aggregated results\n",
    "aggregated_data = pd.DataFrame({\n",
    "    'Total Users': total_users,\n",
    "    'Average Clicks': average_clicks,\n",
    "    'Average Views': average_views,\n",
    "    'Clicks to Views Ratio': clicks_to_views_ratio,\n",
    "    'Median Clicks': median_clicks,\n",
    "    'Median Views': median_views,\n",
    "    'Quartile 3 Clicks':q3_clicks,\n",
    "    'Quartile 3 Views':q3_views,\n",
    "})\n",
    "\n",
    "# Displaying the aggregated data\n",
    "aggregated_data\n"
   ]
  },
  {
   "cell_type": "markdown",
   "id": "6305d680",
   "metadata": {},
   "source": [
    "## Inferential Analysis"
   ]
  },
  {
   "cell_type": "markdown",
   "id": "e029c12a",
   "metadata": {},
   "source": [
    "**H<sub>0</sub> (null hypothesis)**: There is no difference between control and treatment variant\n",
    "\n",
    "**H<sub>1</sub> (alternative hypothesis)**: There is a difference between control and treatment variant\n",
    "\n",
    "**Hypothesis Testing Method**: z-test proportion"
   ]
  },
  {
   "cell_type": "code",
   "execution_count": 94,
   "id": "13dc7da1",
   "metadata": {},
   "outputs": [],
   "source": [
    "from statsmodels.stats.proportion import proportions_ztest\n",
    "\n",
    "def ztest_calculation(control_view, control_click, treatment_view, treatment_click):\n",
    "    count = np.array([control_click, treatment_click]) #numerator\n",
    "    nobs = np.array([control_view, treatment_view]) #denom\n",
    "    stat, pval = proportions_ztest(count, nobs)\n",
    "    \n",
    "    control_metric = control_click/control_view\n",
    "    treatment_metric = treatment_click/treatment_view\n",
    "    \n",
    "    if pval <0.05: \n",
    "        significant_test = 'There is difference between control and treatment'\n",
    "    else:\n",
    "        significant_test = 'There is no difference between control and treatment'\n",
    "    \n",
    "    result = {'control':control_metric*100,\n",
    "             'treatment':treatment_metric*100,\n",
    "             '%difference':(treatment_metric - control_metric)*100/control_metric,\n",
    "             'p-value':'{0:0.5f}'.format(pval),\n",
    "             'conclusion':significant_test}\n",
    "\n",
    "    return pd.DataFrame(result, index=[0])"
   ]
  },
  {
   "cell_type": "code",
   "execution_count": 95,
   "id": "4e9aded4",
   "metadata": {},
   "outputs": [
    {
     "data": {
      "text/html": [
       "<div>\n",
       "<style scoped>\n",
       "    .dataframe tbody tr th:only-of-type {\n",
       "        vertical-align: middle;\n",
       "    }\n",
       "\n",
       "    .dataframe tbody tr th {\n",
       "        vertical-align: top;\n",
       "    }\n",
       "\n",
       "    .dataframe thead th {\n",
       "        text-align: right;\n",
       "    }\n",
       "</style>\n",
       "<table border=\"1\" class=\"dataframe\">\n",
       "  <thead>\n",
       "    <tr style=\"text-align: right;\">\n",
       "      <th></th>\n",
       "      <th>control</th>\n",
       "      <th>treatment</th>\n",
       "      <th>%difference</th>\n",
       "      <th>p-value</th>\n",
       "      <th>conclusion</th>\n",
       "    </tr>\n",
       "  </thead>\n",
       "  <tbody>\n",
       "    <tr>\n",
       "      <th>0</th>\n",
       "      <td>6.940806</td>\n",
       "      <td>7.998245</td>\n",
       "      <td>15.235116</td>\n",
       "      <td>0.00000</td>\n",
       "      <td>There is difference between control and treatment</td>\n",
       "    </tr>\n",
       "  </tbody>\n",
       "</table>\n",
       "</div>"
      ],
      "text/plain": [
       "    control  treatment  %difference  p-value  \\\n",
       "0  6.940806   7.998245    15.235116  0.00000   \n",
       "\n",
       "                                          conclusion  \n",
       "0  There is difference between control and treatment  "
      ]
     },
     "execution_count": 95,
     "metadata": {},
     "output_type": "execute_result"
    }
   ],
   "source": [
    "control_view = df.loc[df['group']=='control','views'].sum()\n",
    "control_click = df.loc[df['group']=='control','clicks'].sum()\n",
    "treatment_view = df.loc[df['group']=='test','views'].sum()\n",
    "treatment_click = df.loc[df['group']=='test','clicks'].sum()\n",
    "\n",
    "result = ztest_calculation(control_view, control_click, treatment_view, treatment_click)\n",
    "\n",
    "# print('{0:0.3f}'.format(pval))\n",
    "result"
   ]
  },
  {
   "cell_type": "code",
   "execution_count": null,
   "id": "5d6f6ecf",
   "metadata": {},
   "outputs": [],
   "source": []
  }
 ],
 "metadata": {
  "kernelspec": {
   "display_name": "Python 3 (ipykernel)",
   "language": "python",
   "name": "python3"
  },
  "language_info": {
   "codemirror_mode": {
    "name": "ipython",
    "version": 3
   },
   "file_extension": ".py",
   "mimetype": "text/x-python",
   "name": "python",
   "nbconvert_exporter": "python",
   "pygments_lexer": "ipython3",
   "version": "3.9.7"
  }
 },
 "nbformat": 4,
 "nbformat_minor": 5
}
