{
 "cells": [
  {
   "cell_type": "markdown",
   "id": "82f1a7de",
   "metadata": {},
   "source": [
    "# Experiment Design"
   ]
  },
  {
   "cell_type": "markdown",
   "id": "b1fe702e",
   "metadata": {},
   "source": [
    "### Story\n",
    "\n",
    "We find out that there is a pain point on current design layout for users experience. Therefore, we are trying to revamp the current design so that we expect **the increase of CTR metric by at least 10%**."
   ]
  },
  {
   "cell_type": "markdown",
   "id": "fe1a2c07",
   "metadata": {},
   "source": [
    "### Metrics "
   ]
  },
  {
   "cell_type": "markdown",
   "id": "193c6af6",
   "metadata": {},
   "source": [
    "| Metric Type | Metric Name | Expectation |\n",
    "| :-------- | :-------- | :--------: |\n",
    "| Primary Metric    | CTR = clicks/views   | Increase   |\n",
    "| Guardrail Metric    | views   | No decrease   |\n",
    "| Secondary Metric    | clicks   | If the CTR increase then the Clicks should be increase as well|"
   ]
  },
  {
   "cell_type": "markdown",
   "id": "336e3a81",
   "metadata": {},
   "source": [
    "### Launch Criteria \n",
    "\n",
    "We decide to Launch the treatment variant IF:\n",
    "* CTR increase\n",
    "* Views metric isn't decrease\n",
    "* Clicks metric increase"
   ]
  },
  {
   "cell_type": "markdown",
   "id": "b8ae297f",
   "metadata": {},
   "source": [
    "### Determine Sample Size and Experiment Duration "
   ]
  },
  {
   "cell_type": "code",
   "execution_count": 1,
   "id": "7591c984",
   "metadata": {},
   "outputs": [],
   "source": [
    "from scipy.stats import norm\n",
    "import matplotlib.pyplot as plt\n",
    "import seaborn as sns\n",
    "import numpy as np\n",
    "import pandas as pd\n",
    "import scipy.stats as stats"
   ]
  },
  {
   "cell_type": "code",
   "execution_count": 2,
   "id": "1ea64059",
   "metadata": {},
   "outputs": [],
   "source": [
    "cvr = 0.07 #conversion metric\n",
    "mde = np.arange(0.05,1,0.05) #MDE for relative difference 0.1 - 0.9\n",
    "alpha = 0.05 #alpha or significance level\n",
    "power = 0.8 #statistical power\n",
    "n_variant = 2\n",
    "daily_traffic = 3000"
   ]
  },
  {
   "cell_type": "code",
   "execution_count": 3,
   "id": "269bb850",
   "metadata": {},
   "outputs": [],
   "source": [
    "variance = cvr*(1-cvr)\n",
    "sample_per_variant = []\n",
    "\n",
    "for mde_i in mde:\n",
    "    delta = cvr*mde_i\n",
    "    sample_per_variant.append((2*(norm.ppf(1 - alpha/2) + norm.ppf(power))**2)/(delta**2/variance))\n",
    "    \n",
    "duration_days = [i/daily_traffic for i in sample_per_variant]"
   ]
  },
  {
   "cell_type": "code",
   "execution_count": 4,
   "id": "a88caf5a",
   "metadata": {},
   "outputs": [
    {
     "data": {
      "image/png": "[encoded data removed]",
      "text/plain": [
       "<Figure size 432x288 with 1 Axes>"
      ]
     },
     "metadata": {
      "needs_background": "light"
     },
     "output_type": "display_data"
    }
   ],
   "source": [
    "sns.lineplot(x=mde*100,y=sample_per_variant)\n",
    "plt.title('mde to sample_per_variant')\n",
    "plt.xlabel('mde(%)')\n",
    "plt.ylabel('sample_per_variant')\n",
    "plt.show()"
   ]
  },
  {
   "cell_type": "code",
   "execution_count": 5,
   "id": "1385743a",
   "metadata": {},
   "outputs": [
    {
     "data": {
      "text/html": [
       "<div>\n",
       "<style scoped>\n",
       "    .dataframe tbody tr th:only-of-type {\n",
       "        vertical-align: middle;\n",
       "    }\n",
       "\n",
       "    .dataframe tbody tr th {\n",
       "        vertical-align: top;\n",
       "    }\n",
       "\n",
       "    .dataframe thead th {\n",
       "        text-align: right;\n",
       "    }\n",
       "</style>\n",
       "<table border=\"1\" class=\"dataframe\">\n",
       "  <thead>\n",
       "    <tr style=\"text-align: right;\">\n",
       "      <th></th>\n",
       "      <th>mde(%)</th>\n",
       "      <th>sample_per_variant</th>\n",
       "      <th>duration_days</th>\n",
       "    </tr>\n",
       "  </thead>\n",
       "  <tbody>\n",
       "    <tr>\n",
       "      <th>0</th>\n",
       "      <td>5.0</td>\n",
       "      <td>83423.0</td>\n",
       "      <td>28.0</td>\n",
       "    </tr>\n",
       "    <tr>\n",
       "      <th>1</th>\n",
       "      <td>10.0</td>\n",
       "      <td>20856.0</td>\n",
       "      <td>7.0</td>\n",
       "    </tr>\n",
       "    <tr>\n",
       "      <th>2</th>\n",
       "      <td>15.0</td>\n",
       "      <td>9270.0</td>\n",
       "      <td>4.0</td>\n",
       "    </tr>\n",
       "    <tr>\n",
       "      <th>3</th>\n",
       "      <td>20.0</td>\n",
       "      <td>5214.0</td>\n",
       "      <td>2.0</td>\n",
       "    </tr>\n",
       "    <tr>\n",
       "      <th>4</th>\n",
       "      <td>25.0</td>\n",
       "      <td>3337.0</td>\n",
       "      <td>2.0</td>\n",
       "    </tr>\n",
       "    <tr>\n",
       "      <th>5</th>\n",
       "      <td>30.0</td>\n",
       "      <td>2318.0</td>\n",
       "      <td>1.0</td>\n",
       "    </tr>\n",
       "    <tr>\n",
       "      <th>6</th>\n",
       "      <td>35.0</td>\n",
       "      <td>1703.0</td>\n",
       "      <td>1.0</td>\n",
       "    </tr>\n",
       "    <tr>\n",
       "      <th>7</th>\n",
       "      <td>40.0</td>\n",
       "      <td>1304.0</td>\n",
       "      <td>1.0</td>\n",
       "    </tr>\n",
       "    <tr>\n",
       "      <th>8</th>\n",
       "      <td>45.0</td>\n",
       "      <td>1030.0</td>\n",
       "      <td>1.0</td>\n",
       "    </tr>\n",
       "    <tr>\n",
       "      <th>9</th>\n",
       "      <td>50.0</td>\n",
       "      <td>835.0</td>\n",
       "      <td>1.0</td>\n",
       "    </tr>\n",
       "    <tr>\n",
       "      <th>10</th>\n",
       "      <td>55.0</td>\n",
       "      <td>690.0</td>\n",
       "      <td>1.0</td>\n",
       "    </tr>\n",
       "    <tr>\n",
       "      <th>11</th>\n",
       "      <td>60.0</td>\n",
       "      <td>580.0</td>\n",
       "      <td>1.0</td>\n",
       "    </tr>\n",
       "    <tr>\n",
       "      <th>12</th>\n",
       "      <td>65.0</td>\n",
       "      <td>494.0</td>\n",
       "      <td>1.0</td>\n",
       "    </tr>\n",
       "    <tr>\n",
       "      <th>13</th>\n",
       "      <td>70.0</td>\n",
       "      <td>426.0</td>\n",
       "      <td>1.0</td>\n",
       "    </tr>\n",
       "    <tr>\n",
       "      <th>14</th>\n",
       "      <td>75.0</td>\n",
       "      <td>371.0</td>\n",
       "      <td>1.0</td>\n",
       "    </tr>\n",
       "    <tr>\n",
       "      <th>15</th>\n",
       "      <td>80.0</td>\n",
       "      <td>326.0</td>\n",
       "      <td>1.0</td>\n",
       "    </tr>\n",
       "    <tr>\n",
       "      <th>16</th>\n",
       "      <td>85.0</td>\n",
       "      <td>289.0</td>\n",
       "      <td>1.0</td>\n",
       "    </tr>\n",
       "    <tr>\n",
       "      <th>17</th>\n",
       "      <td>90.0</td>\n",
       "      <td>258.0</td>\n",
       "      <td>1.0</td>\n",
       "    </tr>\n",
       "    <tr>\n",
       "      <th>18</th>\n",
       "      <td>95.0</td>\n",
       "      <td>232.0</td>\n",
       "      <td>1.0</td>\n",
       "    </tr>\n",
       "  </tbody>\n",
       "</table>\n",
       "</div>"
      ],
      "text/plain": [
       "    mde(%)  sample_per_variant  duration_days\n",
       "0      5.0             83423.0           28.0\n",
       "1     10.0             20856.0            7.0\n",
       "2     15.0              9270.0            4.0\n",
       "3     20.0              5214.0            2.0\n",
       "4     25.0              3337.0            2.0\n",
       "5     30.0              2318.0            1.0\n",
       "6     35.0              1703.0            1.0\n",
       "7     40.0              1304.0            1.0\n",
       "8     45.0              1030.0            1.0\n",
       "9     50.0               835.0            1.0\n",
       "10    55.0               690.0            1.0\n",
       "11    60.0               580.0            1.0\n",
       "12    65.0               494.0            1.0\n",
       "13    70.0               426.0            1.0\n",
       "14    75.0               371.0            1.0\n",
       "15    80.0               326.0            1.0\n",
       "16    85.0               289.0            1.0\n",
       "17    90.0               258.0            1.0\n",
       "18    95.0               232.0            1.0"
      ]
     },
     "execution_count": 5,
     "metadata": {},
     "output_type": "execute_result"
    }
   ],
   "source": [
    "result = pd.DataFrame({'mde(%)':mde*100,\n",
    "              'sample_per_variant':np.ceil(sample_per_variant),\n",
    "              'duration_days':np.ceil(duration_days)})\n",
    "\n",
    "result"
   ]
  },
  {
   "cell_type": "markdown",
   "id": "ddd3d5b3",
   "metadata": {},
   "source": [
    " "
   ]
  },
  {
   "cell_type": "markdown",
   "id": "3430648f",
   "metadata": {},
   "source": [
    "# Experiment Analysis"
   ]
  },
  {
   "cell_type": "code",
   "execution_count": 6,
   "id": "f0dcc89f",
   "metadata": {},
   "outputs": [],
   "source": [
    "df = pd.read_csv('ab_test_results_aggregated_views_clicks.csv')"
   ]
  },
  {
   "cell_type": "code",
   "execution_count": 7,
   "id": "d8680f10",
   "metadata": {},
   "outputs": [
    {
     "name": "stdout",
     "output_type": "stream",
     "text": [
      "<class 'pandas.core.frame.DataFrame'>\n",
      "RangeIndex: 80000 entries, 0 to 79999\n",
      "Data columns (total 4 columns):\n",
      " #   Column   Non-Null Count  Dtype  \n",
      "---  ------   --------------  -----  \n",
      " 0   user_id  80000 non-null  int64  \n",
      " 1   group    80000 non-null  object \n",
      " 2   views    80000 non-null  float64\n",
      " 3   clicks   80000 non-null  float64\n",
      "dtypes: float64(2), int64(1), object(1)\n",
      "memory usage: 2.4+ MB\n"
     ]
    }
   ],
   "source": [
    "df.info()"
   ]
  },
  {
   "cell_type": "code",
   "execution_count": 8,
   "id": "34df71ff",
   "metadata": {},
   "outputs": [
    {
     "data": {
      "text/html": [
       "<div>\n",
       "<style scoped>\n",
       "    .dataframe tbody tr th:only-of-type {\n",
       "        vertical-align: middle;\n",
       "    }\n",
       "\n",
       "    .dataframe tbody tr th {\n",
       "        vertical-align: top;\n",
       "    }\n",
       "\n",
       "    .dataframe thead th {\n",
       "        text-align: right;\n",
       "    }\n",
       "</style>\n",
       "<table border=\"1\" class=\"dataframe\">\n",
       "  <thead>\n",
       "    <tr style=\"text-align: right;\">\n",
       "      <th></th>\n",
       "      <th>user_id</th>\n",
       "      <th>group</th>\n",
       "      <th>views</th>\n",
       "      <th>clicks</th>\n",
       "    </tr>\n",
       "  </thead>\n",
       "  <tbody>\n",
       "    <tr>\n",
       "      <th>0</th>\n",
       "      <td>1</td>\n",
       "      <td>control</td>\n",
       "      <td>3.0</td>\n",
       "      <td>0.0</td>\n",
       "    </tr>\n",
       "    <tr>\n",
       "      <th>1</th>\n",
       "      <td>2</td>\n",
       "      <td>control</td>\n",
       "      <td>1.0</td>\n",
       "      <td>0.0</td>\n",
       "    </tr>\n",
       "    <tr>\n",
       "      <th>2</th>\n",
       "      <td>3</td>\n",
       "      <td>control</td>\n",
       "      <td>3.0</td>\n",
       "      <td>1.0</td>\n",
       "    </tr>\n",
       "    <tr>\n",
       "      <th>3</th>\n",
       "      <td>4</td>\n",
       "      <td>control</td>\n",
       "      <td>5.0</td>\n",
       "      <td>0.0</td>\n",
       "    </tr>\n",
       "    <tr>\n",
       "      <th>4</th>\n",
       "      <td>5</td>\n",
       "      <td>control</td>\n",
       "      <td>2.0</td>\n",
       "      <td>0.0</td>\n",
       "    </tr>\n",
       "  </tbody>\n",
       "</table>\n",
       "</div>"
      ],
      "text/plain": [
       "   user_id    group  views  clicks\n",
       "0        1  control    3.0     0.0\n",
       "1        2  control    1.0     0.0\n",
       "2        3  control    3.0     1.0\n",
       "3        4  control    5.0     0.0\n",
       "4        5  control    2.0     0.0"
      ]
     },
     "execution_count": 8,
     "metadata": {},
     "output_type": "execute_result"
    }
   ],
   "source": [
    "df.head()"
   ]
  },
  {
   "cell_type": "code",
   "execution_count": 9,
   "id": "7ccc0842",
   "metadata": {},
   "outputs": [
    {
     "data": {
      "text/plain": [
       "array(['control', 'test'], dtype=object)"
      ]
     },
     "execution_count": 9,
     "metadata": {},
     "output_type": "execute_result"
    }
   ],
   "source": [
    "df.group.unique()"
   ]
  },
  {
   "cell_type": "markdown",
   "id": "b6300433",
   "metadata": {},
   "source": [
    "## Sample Ratio Mismatch Checking (SRM)"
   ]
  },
  {
   "cell_type": "code",
   "execution_count": 10,
   "id": "f8834c80",
   "metadata": {},
   "outputs": [
    {
     "data": {
      "text/plain": [
       "group\n",
       "control    40000\n",
       "test       40000\n",
       "Name: user_id, dtype: int64"
      ]
     },
     "execution_count": 10,
     "metadata": {},
     "output_type": "execute_result"
    }
   ],
   "source": [
    "df.groupby('group')['user_id'].nunique()"
   ]
  },
  {
   "cell_type": "code",
   "execution_count": 11,
   "id": "9248105f",
   "metadata": {},
   "outputs": [],
   "source": [
    "def sample_ratio_mismatch(control_sample_size, treatment_sample_size, \n",
    "                          control_expected_proportion, treatment_expected_proportion):\n",
    "    \n",
    "    total_sample_size = control_sample_size + treatment_sample_size\n",
    "    \n",
    "    # Compute the expected frequencies under the assumption of equal proportions\n",
    "    expected_control_successes = control_expected_proportion * total_sample_size\n",
    "    expected_treatment_successes = treatment_expected_proportion * total_sample_size\n",
    "    \n",
    "    # Create the observed and expected frequency arrays\n",
    "    observed_frequencies = [control_sample_size, treatment_sample_size]\n",
    "    expected_frequencies = [expected_control_successes, expected_treatment_successes]\n",
    "    \n",
    "    # Perform chi-square test to check for sample ratio mismatch\n",
    "    _, p_value = stats.chisquare(observed_frequencies, expected_frequencies)\n",
    "    \n",
    "    # Check if the p-value is less than the significance level (e.g., 0.05)\n",
    "    if p_value < 0.05:\n",
    "        return True  # Sample ratio mismatch detected\n",
    "    else:\n",
    "        return False  # Sample ratio mismatch not detected"
   ]
  },
  {
   "cell_type": "code",
   "execution_count": 12,
   "id": "b0e0f28c",
   "metadata": {},
   "outputs": [
    {
     "name": "stdout",
     "output_type": "stream",
     "text": [
      "Sample ratio mismatch not detected.\n"
     ]
    }
   ],
   "source": [
    "#Usage\n",
    "control_expected_proportion = 0.5 \n",
    "treatment_expected_proportion = 1-control_expected_proportion\n",
    "control_sample_size = df.groupby('group')['user_id'].nunique()['control']\n",
    "treatment_sample_size = df.groupby('group')['user_id'].nunique()['test']\n",
    "\n",
    "if sample_ratio_mismatch(control_sample_size, treatment_sample_size, control_expected_proportion, treatment_expected_proportion):\n",
    "    print(\"Sample ratio mismatch detected!\")\n",
    "else:\n",
    "    print(\"Sample ratio mismatch not detected.\")\n"
   ]
  },
  {
   "cell_type": "markdown",
   "id": "31498f10",
   "metadata": {},
   "source": [
    "## Descriptive Analysis"
   ]
  },
  {
   "cell_type": "code",
   "execution_count": 13,
   "id": "d250beb4",
   "metadata": {},
   "outputs": [
    {
     "data": {
      "text/html": [
       "<div>\n",
       "<style scoped>\n",
       "    .dataframe tbody tr th:only-of-type {\n",
       "        vertical-align: middle;\n",
       "    }\n",
       "\n",
       "    .dataframe tbody tr th {\n",
       "        vertical-align: top;\n",
       "    }\n",
       "\n",
       "    .dataframe thead th {\n",
       "        text-align: right;\n",
       "    }\n",
       "</style>\n",
       "<table border=\"1\" class=\"dataframe\">\n",
       "  <thead>\n",
       "    <tr style=\"text-align: right;\">\n",
       "      <th></th>\n",
       "      <th>Total Users</th>\n",
       "      <th>Average Clicks</th>\n",
       "      <th>Average Views</th>\n",
       "      <th>Clicks to Views Ratio</th>\n",
       "      <th>Median Clicks</th>\n",
       "      <th>Median Views</th>\n",
       "      <th>P90 Clicks</th>\n",
       "      <th>P90 Views</th>\n",
       "    </tr>\n",
       "    <tr>\n",
       "      <th>group</th>\n",
       "      <th></th>\n",
       "      <th></th>\n",
       "      <th></th>\n",
       "      <th></th>\n",
       "      <th></th>\n",
       "      <th></th>\n",
       "      <th></th>\n",
       "      <th></th>\n",
       "    </tr>\n",
       "  </thead>\n",
       "  <tbody>\n",
       "    <tr>\n",
       "      <th>control</th>\n",
       "      <td>40000</td>\n",
       "      <td>0.345725</td>\n",
       "      <td>4.981050</td>\n",
       "      <td>0.069408</td>\n",
       "      <td>0.0</td>\n",
       "      <td>3.0</td>\n",
       "      <td>1.0</td>\n",
       "      <td>10.0</td>\n",
       "    </tr>\n",
       "    <tr>\n",
       "      <th>test</th>\n",
       "      <td>40000</td>\n",
       "      <td>0.401150</td>\n",
       "      <td>5.015475</td>\n",
       "      <td>0.079982</td>\n",
       "      <td>0.0</td>\n",
       "      <td>3.0</td>\n",
       "      <td>1.0</td>\n",
       "      <td>10.0</td>\n",
       "    </tr>\n",
       "  </tbody>\n",
       "</table>\n",
       "</div>"
      ],
      "text/plain": [
       "         Total Users  Average Clicks  Average Views  Clicks to Views Ratio  \\\n",
       "group                                                                        \n",
       "control        40000        0.345725       4.981050               0.069408   \n",
       "test           40000        0.401150       5.015475               0.079982   \n",
       "\n",
       "         Median Clicks  Median Views  P90 Clicks  P90 Views  \n",
       "group                                                        \n",
       "control            0.0           3.0         1.0       10.0  \n",
       "test               0.0           3.0         1.0       10.0  "
      ]
     },
     "execution_count": 13,
     "metadata": {},
     "output_type": "execute_result"
    }
   ],
   "source": [
    "# 1. Total users per variant_name\n",
    "total_users = df.groupby('group')['user_id'].nunique()\n",
    "\n",
    "# 2. Average clicks and views per variant_name\n",
    "average_clicks = df.groupby('group')['clicks'].mean()\n",
    "average_views = df.groupby('group')['views'].mean()\n",
    "\n",
    "# 3. Total clicks / total views per variant_name\n",
    "clicks_to_views_ratio = df.groupby('group').apply(lambda x: x['clicks'].sum() / x['views'].sum())\n",
    "\n",
    "# 4. Median clicks and views per variant_name\n",
    "median_clicks = df.groupby('group')['clicks'].median()\n",
    "median_views = df.groupby('group')['views'].median()\n",
    "\n",
    "# 4. Median clicks and views per variant_name\n",
    "q3_clicks = df.groupby('group')['clicks'].quantile(0.90)\n",
    "q3_views = df.groupby('group')['views'].quantile(0.90)\n",
    "\n",
    "# Creating a new DataFrame to store the aggregated results\n",
    "aggregated_data = pd.DataFrame({\n",
    "    'Total Users': total_users,\n",
    "    'Average Clicks': average_clicks,\n",
    "    'Average Views': average_views,\n",
    "    'Clicks to Views Ratio': clicks_to_views_ratio,\n",
    "    'Median Clicks': median_clicks,\n",
    "    'Median Views': median_views,\n",
    "    'P90 Clicks':q3_clicks,\n",
    "    'P90 Views':q3_views,\n",
    "})\n",
    "\n",
    "# Displaying the aggregated data\n",
    "aggregated_data\n"
   ]
  },
  {
   "cell_type": "markdown",
   "id": "f3a04ca8",
   "metadata": {},
   "source": [
    "## Inferential Analysis"
   ]
  },
  {
   "cell_type": "markdown",
   "id": "e09e3bf2",
   "metadata": {},
   "source": [
    "**H<sub>0</sub> (null hypothesis)**: There is no difference between control and treatment variant\n",
    "\n",
    "**H<sub>1</sub> (alternative hypothesis)**: There is a difference between control and treatment variant\n"
   ]
  },
  {
   "cell_type": "code",
   "execution_count": 14,
   "id": "27d3abcf",
   "metadata": {},
   "outputs": [],
   "source": [
    "from statsmodels.stats.proportion import proportions_ztest\n",
    "\n",
    "def proportion_metric(control_view, control_click, treatment_view, treatment_click):\n",
    "    count = np.array([control_click, treatment_click]) #numerator\n",
    "    nobs = np.array([control_view, treatment_view]) #denom\n",
    "    stat, pval = proportions_ztest(count, nobs)\n",
    "    \n",
    "    control_metric = control_click/control_view\n",
    "    treatment_metric = treatment_click/treatment_view\n",
    "    \n",
    "    if pval <0.05: \n",
    "        significant_test = 'There is difference between control and treatment'\n",
    "    else:\n",
    "        significant_test = 'There is no difference between control and treatment'\n",
    "    \n",
    "    result = {'control':control_metric*100,\n",
    "             'treatment':treatment_metric*100,\n",
    "             '%difference':(treatment_metric - control_metric)*100/control_metric,\n",
    "             'p-value':'{0:0.5f}'.format(pval),\n",
    "             'conclusion':significant_test}\n",
    "\n",
    "    return pd.DataFrame(result, index=[0])\n",
    "\n",
    "def continuous_metric(control_data, treatment_data):\n",
    "    stat, pval = stats.ttest_ind(control_data, treatment_data)\n",
    "    \n",
    "    if pval <0.05: \n",
    "        significant_test = 'There is difference between control and treatment'\n",
    "    else:\n",
    "        significant_test = 'There is no difference between control and treatment'\n",
    "    \n",
    "    result = {'control':control_data.mean(),\n",
    "             'treatment':treatment_data.mean(),\n",
    "             '%difference':(treatment_data.mean() - control_data.mean())*100/control_data.mean(),\n",
    "             'p-value':'{0:0.5f}'.format(pval),\n",
    "             'conclusion':significant_test}\n",
    "\n",
    "    return pd.DataFrame(result, index=[0])\n"
   ]
  },
  {
   "cell_type": "markdown",
   "id": "4baab5f2",
   "metadata": {},
   "source": [
    "### Views Metric"
   ]
  },
  {
   "cell_type": "code",
   "execution_count": 15,
   "id": "a6ce904c",
   "metadata": {},
   "outputs": [
    {
     "data": {
      "text/html": [
       "<div>\n",
       "<style scoped>\n",
       "    .dataframe tbody tr th:only-of-type {\n",
       "        vertical-align: middle;\n",
       "    }\n",
       "\n",
       "    .dataframe tbody tr th {\n",
       "        vertical-align: top;\n",
       "    }\n",
       "\n",
       "    .dataframe thead th {\n",
       "        text-align: right;\n",
       "    }\n",
       "</style>\n",
       "<table border=\"1\" class=\"dataframe\">\n",
       "  <thead>\n",
       "    <tr style=\"text-align: right;\">\n",
       "      <th></th>\n",
       "      <th>control</th>\n",
       "      <th>treatment</th>\n",
       "      <th>%difference</th>\n",
       "      <th>p-value</th>\n",
       "      <th>conclusion</th>\n",
       "    </tr>\n",
       "  </thead>\n",
       "  <tbody>\n",
       "    <tr>\n",
       "      <th>0</th>\n",
       "      <td>4.98105</td>\n",
       "      <td>5.015475</td>\n",
       "      <td>0.691119</td>\n",
       "      <td>0.41051</td>\n",
       "      <td>There is no difference between control and tre...</td>\n",
       "    </tr>\n",
       "  </tbody>\n",
       "</table>\n",
       "</div>"
      ],
      "text/plain": [
       "   control  treatment  %difference  p-value  \\\n",
       "0  4.98105   5.015475     0.691119  0.41051   \n",
       "\n",
       "                                          conclusion  \n",
       "0  There is no difference between control and tre...  "
      ]
     },
     "execution_count": 15,
     "metadata": {},
     "output_type": "execute_result"
    }
   ],
   "source": [
    "control_data = df.loc[df['group']=='control','views']\n",
    "treatment_data = df.loc[df['group']=='test','views']\n",
    "\n",
    "result = continuous_metric(control_data, treatment_data)\n",
    "\n",
    "result"
   ]
  },
  {
   "cell_type": "markdown",
   "id": "d333f98d",
   "metadata": {},
   "source": [
    "### Clicks Metric"
   ]
  },
  {
   "cell_type": "code",
   "execution_count": 16,
   "id": "7a8527c7",
   "metadata": {},
   "outputs": [
    {
     "data": {
      "text/html": [
       "<div>\n",
       "<style scoped>\n",
       "    .dataframe tbody tr th:only-of-type {\n",
       "        vertical-align: middle;\n",
       "    }\n",
       "\n",
       "    .dataframe tbody tr th {\n",
       "        vertical-align: top;\n",
       "    }\n",
       "\n",
       "    .dataframe thead th {\n",
       "        text-align: right;\n",
       "    }\n",
       "</style>\n",
       "<table border=\"1\" class=\"dataframe\">\n",
       "  <thead>\n",
       "    <tr style=\"text-align: right;\">\n",
       "      <th></th>\n",
       "      <th>control</th>\n",
       "      <th>treatment</th>\n",
       "      <th>%difference</th>\n",
       "      <th>p-value</th>\n",
       "      <th>conclusion</th>\n",
       "    </tr>\n",
       "  </thead>\n",
       "  <tbody>\n",
       "    <tr>\n",
       "      <th>0</th>\n",
       "      <td>0.345725</td>\n",
       "      <td>0.40115</td>\n",
       "      <td>16.031528</td>\n",
       "      <td>0.00000</td>\n",
       "      <td>There is difference between control and treatment</td>\n",
       "    </tr>\n",
       "  </tbody>\n",
       "</table>\n",
       "</div>"
      ],
      "text/plain": [
       "    control  treatment  %difference  p-value  \\\n",
       "0  0.345725    0.40115    16.031528  0.00000   \n",
       "\n",
       "                                          conclusion  \n",
       "0  There is difference between control and treatment  "
      ]
     },
     "execution_count": 16,
     "metadata": {},
     "output_type": "execute_result"
    }
   ],
   "source": [
    "control_data = df.loc[df['group']=='control','clicks']\n",
    "treatment_data = df.loc[df['group']=='test','clicks']\n",
    "\n",
    "result = continuous_metric(control_data, treatment_data)\n",
    "\n",
    "result"
   ]
  },
  {
   "cell_type": "markdown",
   "id": "398fb214",
   "metadata": {},
   "source": [
    "### CTR Metric"
   ]
  },
  {
   "cell_type": "code",
   "execution_count": 17,
   "id": "4dec4ed2",
   "metadata": {},
   "outputs": [
    {
     "data": {
      "text/html": [
       "<div>\n",
       "<style scoped>\n",
       "    .dataframe tbody tr th:only-of-type {\n",
       "        vertical-align: middle;\n",
       "    }\n",
       "\n",
       "    .dataframe tbody tr th {\n",
       "        vertical-align: top;\n",
       "    }\n",
       "\n",
       "    .dataframe thead th {\n",
       "        text-align: right;\n",
       "    }\n",
       "</style>\n",
       "<table border=\"1\" class=\"dataframe\">\n",
       "  <thead>\n",
       "    <tr style=\"text-align: right;\">\n",
       "      <th></th>\n",
       "      <th>control</th>\n",
       "      <th>treatment</th>\n",
       "      <th>%difference</th>\n",
       "      <th>p-value</th>\n",
       "      <th>conclusion</th>\n",
       "    </tr>\n",
       "  </thead>\n",
       "  <tbody>\n",
       "    <tr>\n",
       "      <th>0</th>\n",
       "      <td>6.940806</td>\n",
       "      <td>7.998245</td>\n",
       "      <td>15.235116</td>\n",
       "      <td>0.00000</td>\n",
       "      <td>There is difference between control and treatment</td>\n",
       "    </tr>\n",
       "  </tbody>\n",
       "</table>\n",
       "</div>"
      ],
      "text/plain": [
       "    control  treatment  %difference  p-value  \\\n",
       "0  6.940806   7.998245    15.235116  0.00000   \n",
       "\n",
       "                                          conclusion  \n",
       "0  There is difference between control and treatment  "
      ]
     },
     "execution_count": 17,
     "metadata": {},
     "output_type": "execute_result"
    }
   ],
   "source": [
    "control_view = df.loc[df['group']=='control','views'].sum()\n",
    "control_click = df.loc[df['group']=='control','clicks'].sum()\n",
    "treatment_view = df.loc[df['group']=='test','views'].sum()\n",
    "treatment_click = df.loc[df['group']=='test','clicks'].sum()\n",
    "\n",
    "result = proportion_metric(control_view, control_click, treatment_view, treatment_click)\n",
    "\n",
    "result"
   ]
  },
  {
   "cell_type": "markdown",
   "id": "81f5860f",
   "metadata": {},
   "source": [
    "## Conclusion and Recommendation"
   ]
  },
  {
   "cell_type": "markdown",
   "id": "64f7bec5",
   "metadata": {},
   "source": [
    "Based on the experiment analysis, we find that:\n",
    "* The treatment variant **increases the CTR by 15.23%**\n",
    "* The Average Clicks also **increases by 16%**\n",
    "* There is **no difference** of Views metric between control and treatment variant\n",
    "\n",
    "The result of experiment fulfill the Launch Criteria, so we recommend to Launch the treatment variant."
   ]
  },
  {
   "cell_type": "code",
   "execution_count": null,
   "id": "928e79fe",
   "metadata": {},
   "outputs": [],
   "source": []
  }
 ],
 "metadata": {
  "kernelspec": {
   "display_name": "Python 3 (ipykernel)",
   "language": "python",
   "name": "python3"
  },
  "language_info": {
   "codemirror_mode": {
    "name": "ipython",
    "version": 3
   },
   "file_extension": ".py",
   "mimetype": "text/x-python",
   "name": "python",
   "nbconvert_exporter": "python",
   "pygments_lexer": "ipython3",
   "version": "3.9.7"
  }
 },
 "nbformat": 4,
 "nbformat_minor": 5
}
